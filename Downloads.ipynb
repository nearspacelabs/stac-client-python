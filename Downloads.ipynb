{
 "cells": [
  {
   "cell_type": "code",
   "execution_count": 1,
   "metadata": {},
   "outputs": [
    {
     "name": "stdout",
     "output_type": "stream",
     "text": [
      "nsl client connecting to stac service at: localhost:10000\n",
      "\n",
      "data id: 20190819T083521Z_1883_POM2_ST1, collected on: 2019-08-11T19:46:29+00:00\n",
      "/Users/davidraleigh/data/cbre/v3/20190819T083521Z_1883_POM2_ST1.tiff\n",
      "/Users/davidraleigh/data/cbre/v3/20190819T083521Z_1883_POM2_ST1_thumb.jpg\n"
     ]
    }
   ],
   "source": [
    "from datetime import date, datetime, timezone\n",
    "\n",
    "from nsl.stac.client import NSLClient\n",
    "from nsl.stac import utils\n",
    "from epl.protobuf import stac_pb2, query_pb2\n",
    "from epl.geometry import Point\n",
    "\n",
    "# create a client for querying data\n",
    "client = NSLClient()\n",
    "\n",
    "# creating our date range\n",
    "start_timestamp = utils.pb_timestamp(date(2019,8,11))\n",
    "stop_timestamp = utils.pb_timestamp(date(2019,8,12))\n",
    "observed_query = query_pb2.TimestampField(start=start_timestamp, \n",
    "                                          stop=stop_timestamp, \n",
    "                                          rel_type=query_pb2.BETWEEN)\n",
    "\n",
    "# selecting our geometry\n",
    "aoi = Point(-97.727025, 30.399936, wkid=4326)\n",
    "\n",
    "stac_request = stac_pb2.StacRequest(observed=observed_query,\n",
    "                                    geometry=aoi.geometry_data,\n",
    "                                    limit=50)\n",
    "\n",
    "stac_item = client.search_one(stac_request)\n",
    "date_str = datetime.fromtimestamp(stac_item.observed.seconds, tz=timezone.utc).isoformat()\n",
    "print(\"data id: {0}, collected on: {1}\".format(stac_item.id, date_str))\n",
    "downloaded = []\n",
    "downloaded.extend(utils.download_assets(stac_item, save_directory=\"/Users/davidraleigh/data/cbre/v3\"))\n",
    "\n",
    "print(\"\\n\".join(downloaded))"
   ]
  },
  {
   "cell_type": "code",
   "execution_count": 2,
   "metadata": {},
   "outputs": [
    {
     "name": "stdout",
     "output_type": "stream",
     "text": [
      "20190924T175233Z_1883_ST2_POM1\n",
      "20190811T194629Z_1883_POM1_ST2\n",
      "20190819T083521Z_1883_POM2_ST1\n",
      "20190925T003718Z_1883_ST2_POM1\n",
      "20190924T174439Z_1723_ST2_POM1\n",
      "20190925T004410Z_1723_ST2_POM1\n",
      "20190818T230052Z_1723_POM2_ST1\n",
      "20190811T194046Z_1723_POM1_ST2\n",
      "20190811T193911Z_1681_POM1_ST2\n",
      "20190925T005118Z_1681_ST2_POM1\n",
      "20190819T100816Z_1681_POM2_ST1\n",
      "20190924T173408Z_1681_ST2_POM1\n",
      "20190819T215800Z_1677_POM2_ST1\n",
      "20190925T005141Z_1677_ST2_POM1\n",
      "20190924T174443Z_1677_ST2_POM1\n",
      "20190811T193901Z_1677_POM1_ST2\n",
      "20190819T104712Z_1644_POM2_ST1\n",
      "20190925T003206Z_1644_ST2_POM1\n",
      "20190811T193748Z_1644_POM1_ST2\n",
      "20190924T174406Z_1644_ST2_POM1\n",
      "20190924T173620Z_1623_ST2_POM1\n",
      "20190925T004220Z_1623_ST2_POM1\n",
      "20190811T193659Z_1623_POM1_ST2\n",
      "20190819T213712Z_1623_POM2_ST1\n",
      "20190819T084105Z_1620_POM2_ST1\n",
      "20190819T111033Z_1615_POM2_ST1\n",
      "20190811T193612Z_1602_POM1_ST2\n",
      "20190925T005515Z_1602_ST2_POM1\n",
      "20190924T174622Z_1602_ST2_POM1\n",
      "20190819T110657Z_1602_POM2_ST1\n",
      "20190811T193232Z_1502_POM1_ST2\n",
      "20190925T010447Z_1502_ST2_POM1\n",
      "20190924T175354Z_1502_ST2_POM1\n",
      "20190819T094326Z_1502_POM2_ST1\n",
      "20190924T172234Z_1329_ST2_POM1\n",
      "20190819T083448Z_1329_POM2_ST1\n",
      "20190925T012028Z_1329_ST2_POM1\n",
      "20190811T192533Z_1329_POM1_ST2\n",
      "20190818T222412Z_1318_POM2_ST1\n",
      "20190925T012610Z_1318_ST2_POM1\n",
      "20190819T154828Z_1281_POM2_ST1\n",
      "20190924T212630Z_1281_ST2_POM1\n",
      "20190924T172630Z_1281_ST2_POM1\n",
      "20190924T172505Z_1273_ST2_POM1\n",
      "20190819T154515Z_1273_POM2_ST1\n",
      "20190924T230957Z_1273_ST2_POM1\n",
      "20190924T173107Z_1273_ST2_POM1\n",
      "20190811T192321Z_1273_POM1_ST2\n",
      "20190819T154901Z_1267_POM2_ST1\n",
      "20190819T205650Z_1257_POM2_ST1\n"
     ]
    }
   ],
   "source": [
    "for stac_item in client.search(stac_request):\n",
    "    print(stac_item.id)"
   ]
  },
  {
   "cell_type": "code",
   "execution_count": null,
   "metadata": {},
   "outputs": [],
   "source": []
  }
 ],
 "metadata": {
  "kernelspec": {
   "display_name": "venv",
   "language": "python",
   "name": "venv"
  },
  "language_info": {
   "codemirror_mode": {
    "name": "ipython",
    "version": 3
   },
   "file_extension": ".py",
   "mimetype": "text/x-python",
   "name": "python",
   "nbconvert_exporter": "python",
   "pygments_lexer": "ipython3",
   "version": "3.7.3"
  }
 },
 "nbformat": 4,
 "nbformat_minor": 2
}
