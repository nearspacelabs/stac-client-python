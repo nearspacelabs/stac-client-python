{
 "cells": [
  {
   "cell_type": "markdown",
   "metadata": {},
   "source": [
    "# Complex Queries\n",
    "Below are a few complex queries, downloading and filtering of StacItem results. You can also look through the [test directory](./test) for more examples of how to use queries.\n",
    "\n",
    "- [Electro Optical](#electro-optical)\n",
    "- [Sort Order](#sort-order)\n",
    "\n",
    "### Electro Optical\n",
    "Proto3, the version of proto definition used for gRPC STAC, creates messages that are similar to structs in C. One of the drawbacks to structs is that for floats, integers, enums and booleans all fields that are not set are initialized to a value of zero. In geospatial sciences, defaulting to zero can cause problems in that an algorithm or user might interpret that as a true value. \n",
    "\n",
    "To get around this, Google uses wrappers for floats and ints and some of those are used in gRPC STAC. For example, some of the fields like `off_nadir`, `azimuth` and others in the Electro Optical protobuf message, [Eo](https://geo-grpc.github.io/api/#epl.protobuf.Eo) use the `google.protobuf.FloatValue` wrapper. As a consequence, accessing those values requires calling `field_name.value` instead of `field_name` to access the data.\n",
    "\n",
    "For our ground sampling distance query we're using another query filter; this time it's the [FloatField](https://geo-grpc.github.io/api/#epl.protobuf.FloatField). It behaves just as the TimestampField, but with floats for `value` or for `start`&`stop`.\n",
    "\n",
    "In order to make our ground sampling query we need to insert it inside of an [EoRequest](https://geo-grpc.github.io/api/#epl.protobuf.EoRequest) container and set that to the `eo` field of the `StacRequest`.\n"
   ]
  },
  {
   "cell_type": "code",
   "execution_count": 1,
   "metadata": {},
   "outputs": [
    {
     "name": "stdout",
     "output_type": "stream",
     "text": [
      "nsl client connecting to stac service at: eap.nearspacelabs.net:9090\n",
      "\n"
     ]
    }
   ],
   "source": [
    "from datetime import datetime, timezone\n",
    "from nsl.stac.client import NSLClient\n",
    "from epl.protobuf.stac_pb2 import StacRequest\n",
    "from epl.protobuf.geometry_pb2 import GeometryData, SpatialReferenceData\n",
    "from epl.protobuf.query_pb2 import FloatField, LT_OR_EQ\n",
    "from epl.protobuf.stac_pb2 import EoRequest, Eo\n",
    "\n",
    "# create our ground sampling distance query to only return data less than or equal to 1 meter\n",
    "gsd_query = FloatField(value=1.0, rel_type=LT_OR_EQ)\n",
    "# create an eo_request container\n",
    "eo_request = EoRequest(gsd=gsd_query)\n",
    "# define ourselves a point in Austin, Texas\n",
    "austin_capital_wkt = \"POINT(-97.733333 30.266667)\"\n",
    "geometry_data = GeometryData(wkt=austin_capital_wkt, sr=SpatialReferenceData(wkid=4326))\n",
    "# create a StacRequest with geometry, eo_request and a limit of 20\n",
    "stac_request = StacRequest(geometry=geometry_data, eo=eo_request, limit=20)\n",
    "\n",
    "# get a client interface to the gRPC channel\n",
    "client = NSLClient()\n",
    "for stac_item in client.search(stac_request):\n",
    "    print(\"{0} STAC item '{1}' from {2}\\nhas a gsd {3}, which should be less than or \"\n",
    "          \"equal to requested gsd {4}: confirmed {5}\".format(\n",
    "        Eo.Constellation.Name(stac_item.eo.constellation),\n",
    "        stac_item.id,\n",
    "        datetime.fromtimestamp(stac_item.observed.seconds, tz=timezone.utc).isoformat(),\n",
    "        stac_item.eo.gsd.value,\n",
    "        gsd_query.value,\n",
    "        True))"
   ]
  },
  {
   "cell_type": "markdown",
   "metadata": {},
   "source": [
    "Notice that gsd has some extra float errors for the item `m_3611918_ne_11_h_20160629_20161004`. This is because the FloatValue is a float32, but numpy want's all number to be as large and precise as possible. So there's some scrambled mess at the end of the precision of gsd.\n",
    "\n",
    "Also, even though we set the `limit` to 20, the print out only returns 3 values. That's because the STAC service we're using only holds NAIP and Landsat data for Fresno California. And for NAIP there are only 3 different surveys with 1 meter or higher resolution for that location.\n",
    "\n",
    "\n",
    "### Sort Order\n",
    "We can also apply a sort direction to our results so that they are ascending or decending. In the below sample we search all data before 2017 starting with the oldest results first by specifiying the `ASC`, ascending parameter. This is a complex query and can take a while.\n",
    "\n",
    "**WARNING** this query will take a while."
   ]
  },
  {
   "cell_type": "code",
   "execution_count": 2,
   "metadata": {},
   "outputs": [
    {
     "name": "stdout",
     "output_type": "stream",
     "text": [
      "Stac item id 20191122T130410Z_640_ST2_POM1, date, 2019-04-12T12:16:02+00:00, is before 2019-08-20T00:00:00+00:00:True\n",
      "Stac item id 20191122T130408Z_641_ST2_POM1, date, 2019-04-12T12:16:15+00:00, is before 2019-08-20T00:00:00+00:00:True\n"
     ]
    }
   ],
   "source": [
    "# SORT Direction\n",
    "from datetime import date, datetime, timezone\n",
    "from nsl.stac import utils\n",
    "from nsl.stac.client import NSLClient\n",
    "from epl.protobuf.stac_pb2 import StacRequest\n",
    "from epl.protobuf.query_pb2 import TimestampField, LT, ASC\n",
    "\n",
    "# the utils package has a helper for converting `date` or \n",
    "# `datetime` objects to google.protobuf.Timestamp protobufs\n",
    "start_timestamp = utils.pb_timestamp(date(2019, 8, 20))\n",
    "# make a filter that selects all data on or after January 1st, 2017\n",
    "time_query = TimestampField(value=start_timestamp, rel_type=LT, sort_direction=ASC)\n",
    "stac_request = StacRequest(datetime=time_query, limit=2)\n",
    "client = NSLClient()\n",
    "for stac_item in client.search(stac_request):\n",
    "    print(\"Stac item id {0}, date, {1}, is before {2}:{3}\".format(\n",
    "        stac_item.id,\n",
    "        datetime.fromtimestamp(stac_item.observed.seconds, tz=timezone.utc).isoformat(),\n",
    "        datetime.fromtimestamp(start_timestamp.seconds, tz=timezone.utc).isoformat(),\n",
    "        stac_item.observed.seconds < start_timestamp.seconds))"
   ]
  },
  {
   "cell_type": "code",
   "execution_count": null,
   "metadata": {},
   "outputs": [],
   "source": []
  }
 ],
 "metadata": {
  "kernelspec": {
   "display_name": "Python 3",
   "language": "python",
   "name": "python3"
  },
  "language_info": {
   "codemirror_mode": {
    "name": "ipython",
    "version": 3
   },
   "file_extension": ".py",
   "mimetype": "text/x-python",
   "name": "python",
   "nbconvert_exporter": "python",
   "pygments_lexer": "ipython3",
   "version": "3.7.3"
  }
 },
 "nbformat": 4,
 "nbformat_minor": 2
}
