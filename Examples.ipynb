{
 "cells": [
  {
   "cell_type": "markdown",
   "metadata": {},
   "source": [
    "# Complex Queries\n",
    "Below are a few complex queries, downloading and filtering of StacItem results.\n",
    "\n",
    "- [Sort Order](#sort-order)\n",
    "\n",
    "### Sort Order\n",
    "We can also apply a sort direction to our results so that they are ascending or decending. In the below sample we search all data before 2017 starting with the oldest results first by specifiying the `ASC`, ascending parameter. This is a complex query and can take a while.\n",
    "\n",
    "**WARNING** this query will take a while."
   ]
  },
  {
   "cell_type": "code",
   "execution_count": 2,
   "metadata": {},
   "outputs": [
    {
     "name": "stdout",
     "output_type": "stream",
     "text": [
      "Stac item id 20191122T130410Z_640_ST2_POM1, date, 2019-04-12T12:16:02+00:00, is before 2019-08-20T00:00:00+00:00:True\n",
      "Stac item id 20191122T130408Z_641_ST2_POM1, date, 2019-04-12T12:16:15+00:00, is before 2019-08-20T00:00:00+00:00:True\n"
     ]
    }
   ],
   "source": [
    "# SORT Direction\n",
    "from datetime import date, datetime, timezone\n",
    "from nsl.stac import utils\n",
    "from nsl.stac.client import NSLClient\n",
    "from epl.protobuf.stac_pb2 import StacRequest\n",
    "from epl.protobuf.query_pb2 import TimestampField, LT, ASC\n",
    "\n",
    "# the utils package has a helper for converting `date` or \n",
    "# `datetime` objects to google.protobuf.Timestamp protobufs\n",
    "start_timestamp = utils.pb_timestamp(date(2019, 8, 20))\n",
    "# make a filter that selects all data on or after January 1st, 2017\n",
    "time_query = TimestampField(value=start_timestamp, rel_type=LT, sort_direction=ASC)\n",
    "stac_request = StacRequest(datetime=time_query, limit=2)\n",
    "client = NSLClient()\n",
    "for stac_item in client.search(stac_request):\n",
    "    print(\"Stac item id {0}, date, {1}, is before {2}:{3}\".format(\n",
    "        stac_item.id,\n",
    "        datetime.fromtimestamp(stac_item.observed.seconds, tz=timezone.utc).isoformat(),\n",
    "        datetime.fromtimestamp(start_timestamp.seconds, tz=timezone.utc).isoformat(),\n",
    "        stac_item.observed.seconds < start_timestamp.seconds))"
   ]
  },
  {
   "cell_type": "code",
   "execution_count": null,
   "metadata": {},
   "outputs": [],
   "source": []
  }
 ],
 "metadata": {
  "kernelspec": {
   "display_name": "Python 3",
   "language": "python",
   "name": "python3"
  },
  "language_info": {
   "codemirror_mode": {
    "name": "ipython",
    "version": 3
   },
   "file_extension": ".py",
   "mimetype": "text/x-python",
   "name": "python",
   "nbconvert_exporter": "python",
   "pygments_lexer": "ipython3",
   "version": "3.7.3"
  }
 },
 "nbformat": 4,
 "nbformat_minor": 2
}
