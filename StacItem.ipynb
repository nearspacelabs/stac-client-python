{
 "cells": [
  {
   "cell_type": "markdown",
   "metadata": {},
   "source": [
    "## STAC Item Properties\n",
    "A STAC item is a metadata container for spatially and temporally bounded earth observation data. The data can be aerial imagery, radar data or other types of earth observation data. A STAC item has metadata properties describing the dataset and `Assets` that contain information for downloading the data being described. Almost all properties of a STAC item are aspects you can query by using a `StacRequest` with different types of filters.\n",
    "\n",
    "Return to [README.md](./README.md)"
   ]
  },
  {
   "cell_type": "code",
   "execution_count": 1,
   "metadata": {},
   "outputs": [
    {
     "name": "stdout",
     "output_type": "stream",
     "text": [
      "nsl client connecting to stac service at: eap.nearspacelabs.net:9090\n",
      "\n"
     ]
    }
   ],
   "source": [
    "from nsl.stac.client import NSLClient\n",
    "from nsl.stac import StacRequest\n",
    "\n",
    "stac_request = StacRequest(id='20190826T185828Z_715_POM1_ST2_P')\n",
    "\n",
    "# get a client interface to the gRPC channel\n",
    "client = NSLClient()\n",
    "# for this request we might as well use the search one, as STAC ids ought to be unique\n",
    "stac_item = client.search_one(stac_request)"
   ]
  },
  {
   "cell_type": "markdown",
   "metadata": {},
   "source": [
    "Here are the sections where we go into more detail about properties and assets.\n",
    "\n",
    "- [ID, Temporal, and Spatial](#id-temporal-and-spatial)\n",
    "- [Assets](#assets)\n",
    "- [Electro Optical](#electro-optical)\n",
    "\n",
    "Printing out all the data demonstrates what is typically in a StacItem:"
   ]
  },
  {
   "cell_type": "code",
   "execution_count": 2,
   "metadata": {},
   "outputs": [
    {
     "name": "stdout",
     "output_type": "stream",
     "text": [
      "id: \"20190826T185828Z_715_POM1_ST2_P\"\n",
      "geometry {\n",
      "  wkb: \"\\001\\006\\000\\000\\000\\001\\000\\000\\000\\001\\003\\000\\000\\000\\001\\000\\000\\000\\005\\000\\000\\000\\367\\330\\320\\314\\025nX\\300\\031\\2774\\223vC>@3\\312/\\034-nX\\300a\\326Z\\371*F>@\\265\\023\\016i@oX\\300\\355\\303\\030N\\350E>@\\315\\272\\247\\322.oX\\300u\\036\\372\\212)C>@\\367\\330\\320\\314\\025nX\\300\\031\\2774\\223vC>@\"\n",
      "  sr {\n",
      "    wkid: 4326\n",
      "  }\n",
      "  simple: STRONG_SIMPLE\n",
      "}\n",
      "bbox {\n",
      "  xmin: -97.73830629706102\n",
      "  ymin: 30.262352644027903\n",
      "  xmax: -97.7200805701758\n",
      "  ymax: 30.27409323184691\n",
      "  sr {\n",
      "    wkid: 4326\n",
      "  }\n",
      "}\n",
      "properties {\n",
      "  type_url: \"type.googleapis.com/st.protobuf.SwiftMetadata\"\n",
      "  value: \"\\n\\03620190826T163847Z_TRAVIS_COUNTY\\022 0495ead38e491e637414d508f2d230d6\\032\\03120191203T045008Z_SWIFTERA \\0102.\\032\\'POINT(-97.75460815429688 30.3447265625):\\003\\010\\346!:\\005\\r\\232\\266\\244FB\\003 \\313\\005R\\03520191202T145554Z_715_ST2_POM1Z\\03520190826T185828Z_715_POM1_ST2Z\\03520191122T061353Z_715_ST2_POM1Z\\03520191122T061722Z_715_ST2_POM1Z\\03520191202T145554Z_715_ST2_POM1b\\03520190826T185828Z_715_POM1_ST2h\\001p\\001x\\326\\001\\200\\001\\262*\\210\\001\\276\\203\\022\"\n",
      "}\n",
      "assets {\n",
      "  key: \"GEOTIFF_RGB\"\n",
      "  value {\n",
      "    href: \"https://eap.nearspacelabs.net/download/20191203T045008Z_SWIFTERA/Publish_0/20190826T185828Z_715_POM1_ST2_P.tif\"\n",
      "    type: \"image/vnd.stac.geotiff\"\n",
      "    eo_bands: RGB\n",
      "    asset_type: GEOTIFF\n",
      "    cloud_platform: GCP\n",
      "    bucket_manager: \"Swiftera\"\n",
      "    bucket_region: \"us-central1\"\n",
      "    bucket: \"swiftera-processed-data\"\n",
      "    object_path: \"20191203T045008Z_SWIFTERA/Publish_0/20190826T185828Z_715_POM1_ST2_P.tif\"\n",
      "  }\n",
      "}\n",
      "assets {\n",
      "  key: \"THUMBNAIL_RGB\"\n",
      "  value {\n",
      "    href: \"https://eap.nearspacelabs.net/download/20191203T045008Z_SWIFTERA/Publish_0/20190826T185828Z_715_POM1_ST2_P_thumb.jpg\"\n",
      "    type: \"image/jpeg\"\n",
      "    eo_bands: RGB\n",
      "    asset_type: THUMBNAIL\n",
      "    cloud_platform: GCP\n",
      "    bucket_manager: \"Swiftera\"\n",
      "    bucket_region: \"us-central1\"\n",
      "    bucket: \"swiftera-processed-data\"\n",
      "    object_path: \"20191203T045008Z_SWIFTERA/Publish_0/20190826T185828Z_715_POM1_ST2_P_thumb.jpg\"\n",
      "  }\n",
      "}\n",
      "datetime {\n",
      "  seconds: 1566845908\n",
      "  nanos: 632167000\n",
      "}\n",
      "observed {\n",
      "  seconds: 1566845908\n",
      "  nanos: 632167000\n",
      "}\n",
      "processed {\n",
      "  seconds: 1575352682\n",
      "  nanos: 861234000\n",
      "}\n",
      "updated {\n",
      "  seconds: 1575352687\n",
      "  nanos: 268198954\n",
      "}\n",
      "eo {\n",
      "  platform: SWIFT_2\n",
      "  instrument: POM_1\n",
      "  constellation: SWIFT\n",
      "  sun_azimuth {\n",
      "    value: 197.96905517578125\n",
      "  }\n",
      "  sun_elevation {\n",
      "    value: 69.09848022460938\n",
      "  }\n",
      "  gsd {\n",
      "    value: 0.30000001192092896\n",
      "  }\n",
      "  off_nadir {\n",
      "    value: 22.70497703552246\n",
      "  }\n",
      "  azimuth {\n",
      "    value: 163.9722137451172\n",
      "  }\n",
      "}\n",
      "\n"
     ]
    }
   ],
   "source": [
    "print(stac_item)"
   ]
  },
  {
   "cell_type": "markdown",
   "metadata": {},
   "source": [
    "### ID Temporal and Spatial\n",
    "Every STAC Item has a unique id, a datetime/observation, and a geometry/bbox (bounding-box)."
   ]
  },
  {
   "cell_type": "code",
   "execution_count": 3,
   "metadata": {},
   "outputs": [
    {
     "name": "stdout",
     "output_type": "stream",
     "text": [
      "STAC Item id: 20190826T185828Z_715_POM1_ST2_P\n",
      "\n",
      "STAC Item observed: seconds: 1566845908\n",
      "nanos: 632167000\n",
      "\n",
      "STAC Item datetime: seconds: 1566845908\n",
      "nanos: 632167000\n",
      "\n",
      "STAC Item bbox: xmin: -97.73830629706102\n",
      "ymin: 30.262352644027903\n",
      "xmax: -97.7200805701758\n",
      "ymax: 30.27409323184691\n",
      "sr {\n",
      "  wkid: 4326\n",
      "}\n",
      "\n",
      "STAC Item geometry: wkb: \"\\001\\006\\000\\000\\000\\001\\000\\000\\000\\001\\003\\000\\000\\000\\001\\000\\000\\000\\005\\000\\000\\000\\367\\330\\320\\314\\025nX\\300\\031\\2774\\223vC>@3\\312/\\034-nX\\300a\\326Z\\371*F>@\\265\\023\\016i@oX\\300\\355\\303\\030N\\350E>@\\315\\272\\247\\322.oX\\300u\\036\\372\\212)C>@\\367\\330\\320\\314\\025nX\\300\\031\\2774\\223vC>@\"\n",
      "sr {\n",
      "  wkid: 4326\n",
      "}\n",
      "simple: STRONG_SIMPLE\n",
      "\n"
     ]
    }
   ],
   "source": [
    "print(\"STAC Item id: {}\\n\".format(stac_item.id))\n",
    "print(\"STAC Item observed: {}\".format(stac_item.observed))\n",
    "print(\"STAC Item datetime: {}\".format(stac_item.datetime))\n",
    "print(\"STAC Item bbox: {}\".format(stac_item.bbox))\n",
    "print(\"STAC Item geometry: {}\".format(stac_item.geometry))"
   ]
  },
  {
   "cell_type": "markdown",
   "metadata": {},
   "source": [
    "As you can see above, the `id` is a string value. The format of the id is typically not guessable (ours is based of off the time the data was processed, the image index, the platform and the sensor).\n",
    "\n",
    "The `observed` and `datetime` fields are the same value. STAC specification uses a generic field `datetime` to define the spatial component, the `S`, in STAC. We wanted a more descriptive variable, so we use `observed`, as in, the moment the scene was captured. This is a UTC timestamp in seconds and nano seconds.\n",
    "\n",
    "The `bbox` field describes the xmin, ymin, xmax, and ymax points that describe the bounding box that contains the scene. The `sr` field has an [epsg](http://www.epsg.org/) `wkid`. In this case the 4326 `wkid` indicates [WGS-84](http://epsg.io/4326)\n",
    "\n",
    "The `geometry` field has subfields `wkb`, `sr`, and `simple`. The `wkb` is a [well known binary](https://en.wikipedia.org/wiki/Well-known_text_representation_of_geometry#Well-known_binary) geometry format preferred for it's size. `sr` is the same as in the `bbox`. `simple` can be ignored.\n",
    "\n",
    "Below we demonstrate how you can create python `datetime` objects:"
   ]
  },
  {
   "cell_type": "code",
   "execution_count": 4,
   "metadata": {},
   "outputs": [
    {
     "name": "stdout",
     "output_type": "stream",
     "text": [
      "UTC Observed Scene: 2019-08-26 18:58:28\n",
      "UTC Processed Data: 2019-12-03 05:58:02\n",
      "UTC Updated Metadata: 2019-12-03 05:58:07\n"
     ]
    }
   ],
   "source": [
    "from datetime import datetime\n",
    "print(\"UTC Observed Scene: {}\".format(datetime.utcfromtimestamp(stac_item.observed.seconds)))\n",
    "print(\"UTC Processed Data: {}\".format(datetime.utcfromtimestamp(stac_item.processed.seconds)))\n",
    "print(\"UTC Updated Metadata: {}\".format(datetime.utcfromtimestamp(stac_item.updated.seconds)))"
   ]
  },
  {
   "cell_type": "markdown",
   "metadata": {},
   "source": [
    "Updated is when the metadata was last updated. Typically that will be right after it's `processed` timestamp.\n",
    "\n",
    "Below is a demo of using shapely to get at the geometry data."
   ]
  },
  {
   "cell_type": "code",
   "execution_count": 5,
   "metadata": {},
   "outputs": [
    {
     "name": "stdout",
     "output_type": "stream",
     "text": [
      "wkt printout of polygon:\n",
      "MULTIPOLYGON (((-97.7200805701758 30.26352806127315, -97.72150330225922 30.27409323184691, -97.73830629706102 30.27307594399092, -97.73723284129956 30.2623526440279, -97.7200805701758 30.26352806127315)))\n",
      "\n",
      "centroid of polygon:\n",
      "POINT (-97.72929640107934 30.26824224262507)\n",
      "\n",
      "bounds:\n",
      "POLYGON ((-97.73830629706102 30.2623526440279, -97.73830629706102 30.27409323184691, -97.7200805701758 30.27409323184691, -97.7200805701758 30.2623526440279, -97.73830629706102 30.2623526440279))\n",
      "\n"
     ]
    }
   ],
   "source": [
    "from shapely.geometry import Polygon\n",
    "from shapely.wkb import loads\n",
    "\n",
    "print(\"wkt printout of polygon:\\n{}\\n\".format(loads(stac_item.geometry.wkb)))\n",
    "print(\"centroid of polygon:\\n{}\\n\".format(loads(stac_item.geometry.wkb).centroid))\n",
    "print(\"bounds:\\n{}\\n\".format(Polygon.from_bounds(stac_item.bbox.xmin, \n",
    "                                                 stac_item.bbox.ymin, \n",
    "                                                 stac_item.bbox.xmax, \n",
    "                                                 stac_item.bbox.ymax)))"
   ]
  },
  {
   "cell_type": "markdown",
   "metadata": {},
   "source": [
    "### Assets\n",
    "Each STAC item should have at least one asset. An asset should be all the information you'll need to download the asset in question. For Near Space Labs customers, you'll be using the href, but you can also see the private bucket details of the asset. In protobuf the asset map has a key for each asset available. There's no part of the STAC specification for defining key names. Near Space Labs typically uses the data type, the optical bands and the cloud storage provider to construct a key name."
   ]
  },
  {
   "cell_type": "code",
   "execution_count": 6,
   "metadata": {},
   "outputs": [
    {
     "name": "stdout",
     "output_type": "stream",
     "text": [
      "there are 2 assets\n",
      "THUMBNAIL\n",
      " href: https://eap.nearspacelabs.net/download/20191203T045008Z_SWIFTERA/Publish_0/20190826T185828Z_715_POM1_ST2_P_thumb.jpg\n",
      " type: image/jpeg\n",
      " protobuf enum number and name: 9, THUMBNAIL\n",
      "\n",
      "GEOTIFF\n",
      " href: https://eap.nearspacelabs.net/download/20191203T045008Z_SWIFTERA/Publish_0/20190826T185828Z_715_POM1_ST2_P.tif\n",
      " type: image/vnd.stac.geotiff\n",
      " protobuf enum number and name: 2, GEOTIFF\n",
      "\n"
     ]
    }
   ],
   "source": [
    "from nsl.stac import Asset, utils\n",
    "from nsl.stac.enum import AssetType\n",
    "def print_asset(asset: Asset):\n",
    "    \n",
    "    print(\" href: {}\".format(asset.href))\n",
    "    print(\" type: {}\".format(asset.type))\n",
    "    print(\" protobuf enum number and name: {0}, {1}\".format(asset.asset_type, AssetType(asset.asset_type).name))\n",
    "    print()\n",
    "\n",
    "print(\"there are {} assets\".format(len(stac_item.assets)))\n",
    "print(AssetType.THUMBNAIL.name)\n",
    "print_asset(utils.get_asset(stac_item, asset_type=AssetType.THUMBNAIL))\n",
    "\n",
    "print(AssetType.GEOTIFF.name)\n",
    "print_asset(utils.get_asset(stac_item, asset_type=AssetType.GEOTIFF))"
   ]
  },
  {
   "cell_type": "markdown",
   "metadata": {},
   "source": [
    "As you can see above, our data only consists of jpg thumbnails and Geotiffs. But there can be other data stored in Assets in the future.\n",
    "\n",
    "You can read more details about Assets [here](https://geo-grpc.github.io/api/#epl.protobuf.Asset)\n",
    "\n",
    "### Electo Optical\n",
    "Some imagery analysis tools require knowing certain types of electro optical information. Here's a printout of the information we've collected with data. A summary of Electro Optical values can be found [here](https://geo-grpc.github.io/api/#epl.protobuf.Eo)."
   ]
  },
  {
   "cell_type": "code",
   "execution_count": 7,
   "metadata": {},
   "outputs": [
    {
     "name": "stdout",
     "output_type": "stream",
     "text": [
      "platform: SWIFT_2\n",
      "instrument: POM_1\n",
      "constellation: SWIFT\n",
      "sun_azimuth {\n",
      "  value: 197.96905517578125\n",
      "}\n",
      "sun_elevation {\n",
      "  value: 69.09848022460938\n",
      "}\n",
      "gsd {\n",
      "  value: 0.30000001192092896\n",
      "}\n",
      "off_nadir {\n",
      "  value: 22.70497703552246\n",
      "}\n",
      "azimuth {\n",
      "  value: 163.9722137451172\n",
      "}\n",
      "\n"
     ]
    }
   ],
   "source": [
    "print(stac_item.eo)"
   ]
  },
  {
   "cell_type": "markdown",
   "metadata": {},
   "source": [
    "The `platform` is the model of the vehicle holding the sensor. The `instrument` is the sensor the collected the scenes. In our case we're using `constellation` to represent a class of flight vehicles that we're flying. In the case of the Landsat satellite program the breakdown would be:\n",
    "\n",
    "- `platform`: LANDSAT_8\n",
    "- `sensor`: OLI_TIRS\n",
    "- `constellation`: LANDSAT\n",
    "\n",
    "These `sun_azimuth`, `sun_elevation`, `off_nadir` and `azimuth` are all boxed in the [google.protobuf.FloatValue type](https://developers.google.com/protocol-buffers/docs/reference/csharp/class/google/protobuf/well-known-types/float-value). To get at the value you must access the `value` field."
   ]
  },
  {
   "cell_type": "code",
   "execution_count": 8,
   "metadata": {},
   "outputs": [
    {
     "name": "stdout",
     "output_type": "stream",
     "text": [
      "sun_azimuth: 197.96906\n",
      "sun_elevation: 69.09848\n",
      "off_nadir: 22.70498\n",
      "azimuth: 163.97221\n"
     ]
    }
   ],
   "source": [
    "print(\"sun_azimuth: {:.5f}\".format(stac_item.eo.sun_azimuth.value))\n",
    "print(\"sun_elevation: {:.5f}\".format(stac_item.eo.sun_elevation.value))\n",
    "print(\"off_nadir: {:.5f}\".format(stac_item.eo.off_nadir.value))\n",
    "print(\"azimuth: {:.5f}\".format(stac_item.eo.azimuth.value))"
   ]
  },
  {
   "cell_type": "markdown",
   "metadata": {},
   "source": [
    "Notice that we're only printing out 5 decimal places. As these are stored as float values, we can't trust any of the precision that Python provides us beyond what we know the data to possess.\n",
    "\n",
    "You can read more details about electro-optical data [here](https://geo-grpc.github.io/api/#epl.protobuf.Eo)\n",
    "\n",
    "Return to [README.md](./README.md)"
   ]
  }
 ],
 "metadata": {
  "kernelspec": {
   "display_name": "Python 3",
   "language": "python",
   "name": "python3"
  },
  "language_info": {
   "codemirror_mode": {
    "name": "ipython",
    "version": 3
   },
   "file_extension": ".py",
   "mimetype": "text/x-python",
   "name": "python",
   "nbconvert_exporter": "python",
   "pygments_lexer": "ipython3",
   "version": "3.7.4"
  }
 },
 "nbformat": 4,
 "nbformat_minor": 2
}
