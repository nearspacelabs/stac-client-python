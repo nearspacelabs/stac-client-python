{
 "cells": [
  {
   "cell_type": "markdown",
   "metadata": {},
   "source": [
    "## STAC Item Properties\n",
    "A STAC item is a metadata container for spatially and temporally bounded earth observation data. The data can be aerial imagery, radar data or other types of earth observation data. A STAC item has metadata properties describing the dataset and `Assets` that contain information for downloading the data being described. Almost all properties of a STAC item are aspects you can query by using a `StacRequest` with different types of filters.\n",
    "\n",
    "Return to [README.md](./README.md)"
   ]
  },
  {
   "cell_type": "code",
   "execution_count": 1,
   "metadata": {},
   "outputs": [
    {
     "name": "stdout",
     "output_type": "stream",
     "text": [
      "nsl client connecting to stac service at: eap.nearspacelabs.net:9090\n",
      "\n"
     ]
    }
   ],
   "source": [
    "from nsl.stac.client import NSLClient\n",
    "from epl.protobuf.stac_pb2 import StacRequest\n",
    "\n",
    "stac_request = StacRequest()\n",
    "\n",
    "# get a client interface to the gRPC channel\n",
    "client = NSLClient()\n",
    "# for this request we might as well use the search one, as STAC ids ought to be unique\n",
    "stac_item = client.search_one(stac_request)"
   ]
  },
  {
   "cell_type": "markdown",
   "metadata": {},
   "source": [
    "Here are the sections where we go into more detail about properties and assets.\n",
    "\n",
    "- [ID, Temporal, and Spatial](#id-temporal-and-spatial)\n",
    "- [Assets](#assets)\n",
    "- [Electro Optical](#electro-optical)\n",
    "\n",
    "Printing out all the data demonstrates what is typically in a StacItem:"
   ]
  },
  {
   "cell_type": "code",
   "execution_count": 2,
   "metadata": {},
   "outputs": [
    {
     "name": "stdout",
     "output_type": "stream",
     "text": [
      "id: \"20191110T005417Z_1594_ST2_POM1\"\n",
      "geometry {\n",
      "  wkb: \"\\001\\006\\000\\000\\000\\001\\000\\000\\000\\001\\003\\000\\000\\000\\001\\000\\000\\000\\005\\000\\000\\000\\316\\252\\210\\342\\367nX\\300\\265K\\302O\\323?>@\\246\\336\\241u\\325mX\\300\\211\\271\\345\\000\\310?>@:\\337\\320\\324\\322mX\\300\\251;N.\\360B>@\\343@\\000K\\365nX\\300+\\205\\227~\\373B>@\\316\\252\\210\\342\\367nX\\300\\265K\\302O\\323?>@\"\n",
      "  sr {\n",
      "    wkid: 4326\n",
      "  }\n",
      "  simple: STRONG_SIMPLE\n",
      "}\n",
      "bbox {\n",
      "  xmin: -97.73387969347388\n",
      "  ymin: 30.24914556129946\n",
      "  xmax: -97.71599312207846\n",
      "  ymax: 30.261650001518472\n",
      "  sr {\n",
      "    wkid: 4326\n",
      "  }\n",
      "}\n",
      "properties {\n",
      "  type_url: \"type.googleapis.com/st.protobuf.SwiftMetadata\"\n",
      "  value: \"\\n\\03420190829T153004Z_HAYS_COUNTY\\022 4720b2613dc9377a70e74076acb739cf\\032\\02620191110T005320Z_DAVID \\01022\\032+POINT(-97.71175384521484 30.19917869567871):\\003\\010\\346!:\\005\\rf\\001\\242FB|\\n\\013\\010\\331\\226\\240\\353\\005\\020\\320\\357\\343{\\020\\001 \\272\\014-kl\\303\\3025\\353\\227\\361A=f\\001\\242FEfp\\303\\302M\\235 \\362AU\\000\\000HCZ$\\032Gj?\\360\\3061\\276\\215F\\272>/\\263Z>1hy?\\027\\036\\224\\275\\261\\014\\257\\276\\214W\\023>\\177\\274m?b$\\317\\223l?\\205\\3413\\276\\313\\270\\255>F\\256K>?\\272z?\\345\\022\\016\\2756\\006\\247\\276\\206\\335\\313=Z\\246p?R\\03620190904T154946Z_1594_POM2_ST1Z\\03620190829T172857Z_1594_POM1_ST2Z\\03620190904T154533Z_1594_POM2_ST1Z\\03620190904T154946Z_1594_POM2_ST1b\\03620190829T172857Z_1594_POM1_ST2h\\001p\\001\\200\\001\\304Y\\210\\001\\220\\373\\023\"\n",
      "}\n",
      "assets {\n",
      "  key: \"GEOTIFF_RGB\"\n",
      "  value {\n",
      "    href: \"https://swiftera-processed-data.storage.googleapis.com/20191110T005320Z_DAVID/Publish_0/20191110T005417Z_1594_ST2_POM1.tif\"\n",
      "    type: \"image/vnd.stac.geotiff\"\n",
      "    eo_bands: RGB\n",
      "    asset_type: GEOTIFF\n",
      "    cloud_platform: GCP\n",
      "    bucket_manager: \"Swiftera\"\n",
      "    bucket_region: \"us-central1\"\n",
      "    bucket: \"swiftera-processed-data\"\n",
      "    object_path: \"20191110T005320Z_DAVID/Publish_0/20191110T005417Z_1594_ST2_POM1.tif\"\n",
      "  }\n",
      "}\n",
      "assets {\n",
      "  key: \"THUMBNAIL_RGB\"\n",
      "  value {\n",
      "    href: \"https://swiftera-processed-data.storage.googleapis.com/20191110T005320Z_DAVID/Publish_0/20191110T005417Z_1594_ST2_POM1_thumb.jpg\"\n",
      "    type: \"image/jpeg\"\n",
      "    eo_bands: RGB\n",
      "    asset_type: THUMBNAIL\n",
      "    cloud_platform: GCP\n",
      "    bucket_manager: \"Swiftera\"\n",
      "    bucket_region: \"us-central1\"\n",
      "    bucket: \"swiftera-processed-data\"\n",
      "    object_path: \"20191110T005320Z_DAVID/Publish_0/20191110T005417Z_1594_ST2_POM1_thumb.jpg\"\n",
      "  }\n",
      "}\n",
      "datetime {\n",
      "  seconds: 1567099737\n",
      "  nanos: 259586000\n",
      "}\n",
      "observed {\n",
      "  seconds: 1567099737\n",
      "  nanos: 259586000\n",
      "}\n",
      "processed {\n",
      "  seconds: 1573347257\n",
      "  nanos: 71578000\n",
      "}\n",
      "updated {\n",
      "  seconds: 1573347266\n",
      "  nanos: 103065000\n",
      "}\n",
      "eo {\n",
      "  platform: SWIFT_2\n",
      "  instrument: POM_1\n",
      "  constellation: SWIFT\n",
      "  sun_azimuth {\n",
      "    value: 141.74072265625\n",
      "  }\n",
      "  sun_elevation {\n",
      "    value: 64.46234130859375\n",
      "  }\n",
      "  off_nadir {\n",
      "    value: 19.908658981323242\n",
      "  }\n",
      "  azimuth {\n",
      "    value: 102.08956146240234\n",
      "  }\n",
      "}\n",
      "\n"
     ]
    }
   ],
   "source": [
    "print(stac_item)"
   ]
  },
  {
   "cell_type": "markdown",
   "metadata": {},
   "source": [
    "### ID Temporal and Spatial\n",
    "Every STAC Item has a unique id, a datetime/observation, and a geometry/bbox (bounding-box)."
   ]
  },
  {
   "cell_type": "code",
   "execution_count": 3,
   "metadata": {},
   "outputs": [
    {
     "name": "stdout",
     "output_type": "stream",
     "text": [
      "STAC Item id: 20191110T005417Z_1594_ST2_POM1\n",
      "\n",
      "STAC Item observed: seconds: 1567099737\n",
      "nanos: 259586000\n",
      "\n",
      "STAC Item datetime: seconds: 1567099737\n",
      "nanos: 259586000\n",
      "\n",
      "STAC Item bbox: xmin: -97.73387969347388\n",
      "ymin: 30.24914556129946\n",
      "xmax: -97.71599312207846\n",
      "ymax: 30.261650001518472\n",
      "sr {\n",
      "  wkid: 4326\n",
      "}\n",
      "\n",
      "STAC Item geometry: wkb: \"\\001\\006\\000\\000\\000\\001\\000\\000\\000\\001\\003\\000\\000\\000\\001\\000\\000\\000\\005\\000\\000\\000\\316\\252\\210\\342\\367nX\\300\\265K\\302O\\323?>@\\246\\336\\241u\\325mX\\300\\211\\271\\345\\000\\310?>@:\\337\\320\\324\\322mX\\300\\251;N.\\360B>@\\343@\\000K\\365nX\\300+\\205\\227~\\373B>@\\316\\252\\210\\342\\367nX\\300\\265K\\302O\\323?>@\"\n",
      "sr {\n",
      "  wkid: 4326\n",
      "}\n",
      "simple: STRONG_SIMPLE\n",
      "\n"
     ]
    }
   ],
   "source": [
    "print(\"STAC Item id: {}\\n\".format(stac_item.id))\n",
    "print(\"STAC Item observed: {}\".format(stac_item.observed))\n",
    "print(\"STAC Item datetime: {}\".format(stac_item.datetime))\n",
    "print(\"STAC Item bbox: {}\".format(stac_item.bbox))\n",
    "print(\"STAC Item geometry: {}\".format(stac_item.geometry))"
   ]
  },
  {
   "cell_type": "markdown",
   "metadata": {},
   "source": [
    "As you can see above, the `id` is a string value. The format of the id is typically not guessable (ours is based of off the time the data was processed, the image index, the platform and the sensor).\n",
    "\n",
    "The `observed` and `datetime` fields are the same value. STAC specification uses a generic field `datetime` to define the spatial component, the `S`, in STAC. We wanted a more descriptive variable, so we use `observed`, as in, the moment the scene was captured. This is a UTC timestamp in seconds and nano seconds.\n",
    "\n",
    "The `bbox` field describes the xmin, ymin, xmax, and ymax points that describe the bounding box that contains the scene. The `sr` field has an [epsg](http://www.epsg.org/) `wkid`. In this case the 4326 `wkid` indicates [WGS-84](http://epsg.io/4326)\n",
    "\n",
    "The `geometry` field has subfields `wkb`, `sr`, and `simple`. The `wkb` is a [well known binary](https://en.wikipedia.org/wiki/Well-known_text_representation_of_geometry#Well-known_binary) geometry format preferred for it's size. `sr` is the same as in the `bbox`. `simple` can be ignored.\n",
    "\n",
    "Below we demonstrate how you can create python `datetime` objects:"
   ]
  },
  {
   "cell_type": "code",
   "execution_count": 4,
   "metadata": {},
   "outputs": [
    {
     "name": "stdout",
     "output_type": "stream",
     "text": [
      "Observed Scene: 2019-08-29 13:28:57\n",
      "Processed Data: 2019-11-09 19:54:17\n",
      "Updated Metadata: 2019-11-09 19:54:26\n"
     ]
    }
   ],
   "source": [
    "from datetime import datetime\n",
    "print(\"Observed Scene: {}\".format(datetime.fromtimestamp(stac_item.observed.seconds)))\n",
    "print(\"Processed Data: {}\".format(datetime.fromtimestamp(stac_item.processed.seconds)))\n",
    "print(\"Updated Metadata: {}\".format(datetime.fromtimestamp(stac_item.updated.seconds)))"
   ]
  },
  {
   "cell_type": "markdown",
   "metadata": {},
   "source": [
    "Updated is when the metadata was last updated. Typically that will be right after it's `processed` timestamp.\n",
    "\n",
    "Below is a demo of using shapely to get at the geometry data."
   ]
  },
  {
   "cell_type": "code",
   "execution_count": 5,
   "metadata": {},
   "outputs": [
    {
     "name": "stdout",
     "output_type": "stream",
     "text": [
      "wkt printout of polygon:\n",
      "MULTIPOLYGON (((-97.73387969347388 30.24931810849712, -97.71615353400793 30.24914556129946, -97.71599312207846 30.26147736940371, -97.73372149491074 30.26165000151847, -97.73387969347388 30.24931810849712)))\n",
      "\n",
      "centroid of polygon:\n",
      "POINT (-97.72493696704974 30.25539788861046)\n",
      "\n",
      "bounds:\n",
      "POLYGON ((-97.73387969347388 30.24914556129946, -97.73387969347388 30.26165000151847, -97.71599312207846 30.26165000151847, -97.71599312207846 30.24914556129946, -97.73387969347388 30.24914556129946))\n",
      "\n"
     ]
    }
   ],
   "source": [
    "from shapely.geometry import Polygon\n",
    "from shapely.wkb import loads\n",
    "\n",
    "print(\"wkt printout of polygon:\\n{}\\n\".format(loads(stac_item.geometry.wkb)))\n",
    "print(\"centroid of polygon:\\n{}\\n\".format(loads(stac_item.geometry.wkb).centroid))\n",
    "print(\"bounds:\\n{}\\n\".format(Polygon.from_bounds(stac_item.bbox.xmin, \n",
    "                                                 stac_item.bbox.ymin, \n",
    "                                                 stac_item.bbox.xmax, \n",
    "                                                 stac_item.bbox.ymax)))"
   ]
  },
  {
   "cell_type": "markdown",
   "metadata": {},
   "source": [
    "### Assets\n",
    "Each STAC item should have at least one asset. An asset should be all the information you'll need to download the asset in question. For Near Space Labs customers, you'll be using the href, but you can also see the private bucket details of the asset. In protobuf the asset map has a key for each asset available. There's no part of the STAC specification for defining key names. Near Space Labs typically uses the data type, the optical bands and the cloud storage provider to construct a key name."
   ]
  },
  {
   "cell_type": "code",
   "execution_count": 6,
   "metadata": {},
   "outputs": [
    {
     "name": "stdout",
     "output_type": "stream",
     "text": [
      "THUMBNAIL_RGB asset key\n",
      "href: https://swiftera-processed-data.storage.googleapis.com/20191110T005320Z_DAVID/Publish_0/20191110T005417Z_1594_ST2_POM1_thumb.jpg\n",
      "type: image/jpeg\n",
      "protobuf enum number and name: 9, THUMBNAIL\n",
      "\n",
      "GEOTIFF_RGB asset key\n",
      "href: https://swiftera-processed-data.storage.googleapis.com/20191110T005320Z_DAVID/Publish_0/20191110T005417Z_1594_ST2_POM1.tif\n",
      "type: image/vnd.stac.geotiff\n",
      "protobuf enum number and name: 2, GEOTIFF\n",
      "\n"
     ]
    }
   ],
   "source": [
    "from epl.protobuf.stac_pb2 import AssetType\n",
    "for asset_key in stac_item.assets:\n",
    "    print(\"{} asset key\".format(asset_key))\n",
    "    asset = stac_item.assets[asset_key]\n",
    "    print(\"href: {}\".format(asset.href))\n",
    "    print(\"type: {}\".format(asset.type))\n",
    "    print(\"protobuf enum number and name: {0}, {1}\\n\".format(asset.asset_type, AssetType.Name(asset.asset_type)))"
   ]
  },
  {
   "cell_type": "markdown",
   "metadata": {},
   "source": [
    "As you can see above, our data only consists of jpg thumbnails and Geotiffs. But there can be other data stored in Assets in the future.\n",
    "\n",
    "You can read more details about Assets [here](https://geo-grpc.github.io/api/#epl.protobuf.Asset)\n",
    "\n",
    "### Electo Optical\n",
    "Some imagery analysis tools require knowing certain types of electro optical information. Here's a printout of the information we've collected with data."
   ]
  },
  {
   "cell_type": "code",
   "execution_count": 7,
   "metadata": {},
   "outputs": [
    {
     "name": "stdout",
     "output_type": "stream",
     "text": [
      "platform: SWIFT_2\n",
      "instrument: POM_1\n",
      "constellation: SWIFT\n",
      "sun_azimuth {\n",
      "  value: 141.74072265625\n",
      "}\n",
      "sun_elevation {\n",
      "  value: 64.46234130859375\n",
      "}\n",
      "off_nadir {\n",
      "  value: 19.908658981323242\n",
      "}\n",
      "azimuth {\n",
      "  value: 102.08956146240234\n",
      "}\n",
      "\n"
     ]
    }
   ],
   "source": [
    "print(stac_item.eo)"
   ]
  },
  {
   "cell_type": "markdown",
   "metadata": {},
   "source": [
    "The `platform` is the model of the vehicle holding the sensor. The `instrument` is the sensor the collected the scenes. In our case we're using `constellation` to represent a class of flight vehicles that we're flying. In the case of the Landsat satellite program the breakdown would be:\n",
    "\n",
    "- `platform`: LANDSAT_8\n",
    "- `sensor`: OLI_TIRS\n",
    "- `constellation`: LANDSAT\n",
    "\n",
    "These `sun_azimuth`, `sun_elevation`, `off_nadir` and `azimuth` are all boxed in the [google.protobuf.FloatValue type](https://developers.google.com/protocol-buffers/docs/reference/csharp/class/google/protobuf/well-known-types/float-value). To get at the value you must access the `value` field:"
   ]
  },
  {
   "cell_type": "code",
   "execution_count": 8,
   "metadata": {},
   "outputs": [
    {
     "name": "stdout",
     "output_type": "stream",
     "text": [
      "sun_azimuth: 141.74072\n",
      "sun_elevation: 64.46234\n",
      "off_nadir: 19.90866\n",
      "azimuth: 102.08956\n"
     ]
    }
   ],
   "source": [
    "print(\"sun_azimuth: {:.5f}\".format(stac_item.eo.sun_azimuth.value))\n",
    "print(\"sun_elevation: {:.5f}\".format(stac_item.eo.sun_elevation.value))\n",
    "print(\"off_nadir: {:.5f}\".format(stac_item.eo.off_nadir.value))\n",
    "print(\"azimuth: {:.5f}\".format(stac_item.eo.azimuth.value))"
   ]
  },
  {
   "cell_type": "markdown",
   "metadata": {},
   "source": [
    "Notice that we're only printing out 5 decimal places. As these are stored as float values, we can't trust any of the precision that Python provides us beyond what we know the data to possess.\n",
    "\n",
    "You can read more details about electro-optical data [here](https://geo-grpc.github.io/api/#epl.protobuf.Eo)\n",
    "\n",
    "Return to [README.md](./README.md)"
   ]
  }
 ],
 "metadata": {
  "kernelspec": {
   "display_name": "Python 3",
   "language": "python",
   "name": "python3"
  },
  "language_info": {
   "codemirror_mode": {
    "name": "ipython",
    "version": 3
   },
   "file_extension": ".py",
   "mimetype": "text/x-python",
   "name": "python",
   "nbconvert_exporter": "python",
   "pygments_lexer": "ipython3",
   "version": "3.7.3"
  }
 },
 "nbformat": 4,
 "nbformat_minor": 2
}
